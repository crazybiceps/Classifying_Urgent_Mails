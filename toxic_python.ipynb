{
 "cells": [
  {
   "cell_type": "code",
   "execution_count": 95,
   "metadata": {},
   "outputs": [],
   "source": [
    "import pandas as pd\n",
    "import numpy as np\n",
    "import nltk\n",
    "nltk.download(\"stopwords\")\n",
    "from nltk.corpus import stopwords\n",
    "import re\n",
    "\n",
    "w = pd.read_csv(\"train.csv\")"
   ]
  },
  {
   "cell_type": "code",
   "execution_count": 100,
   "metadata": {},
   "outputs": [],
   "source": [
    "urgent_rows = w.iloc[:, 2] == 1 ### Getting Urgent Mails # Find a way to create id\n",
    "\n",
    "urgent_text = w[urgent_rows]\n",
    "urgent_text = urgent_text.iloc[: , 1]\n",
    "\n",
    "urgent_text = urgent_text.iloc[range(1000)]"
   ]
  },
  {
   "cell_type": "code",
   "execution_count": 83,
   "metadata": {},
   "outputs": [],
   "source": [
    "### urgent_text = str(urgent_text)\n",
    "### urgent_text = re.sub(\"[^a-zA-Z]\" , \" \" , urgent_text).lower()\n",
    "\n",
    "### urg = urgent_text.split()\n",
    "### urg = [word for word in urg if not word in stopwords.words(\"english\")]\n",
    "### from nltk.stem.porter import PorterStemmer\n",
    "### ps = PorterStemmer()"
   ]
  },
  {
   "cell_type": "code",
   "execution_count": 106,
   "metadata": {},
   "outputs": [],
   "source": [
    "a = urgent_text.apply(lambda x : x.lower()).apply(lambda x : re.sub(\"[^a-zA-Z]\" , \" \" , x))"
   ]
  },
  {
   "cell_type": "code",
   "execution_count": 107,
   "metadata": {},
   "outputs": [],
   "source": [
    "b = str(a.iloc[0])\n",
    "\n",
    "for i in range(1 , len(a)): \n",
    "    b += a.iloc[i]\n",
    "\n",
    "b = b.split()\n",
    "b = [word for word in b if not word in stopwords.words(\"english\")]"
   ]
  },
  {
   "cell_type": "code",
   "execution_count": 151,
   "metadata": {},
   "outputs": [],
   "source": [
    "def wordListToPB(wordlist):\n",
    "    wordfreq = [wordlist.count(p) for p in wordlist]\n",
    "    return dict(list(zip(wordlist,wordfreq)))\n",
    "\n",
    "b_dict = wordListToPB(b)"
   ]
  },
  {
   "cell_type": "code",
   "execution_count": 144,
   "metadata": {},
   "outputs": [],
   "source": [
    "nonurgent_rows = w.iloc[:, 2] == 0 \n",
    "\n",
    "nonurgent_text = w[nonurgent_rows]\n",
    "nonurgent_text = nonurgent_text.iloc[: , 1]\n",
    "\n",
    "nonurgent_text = nonurgent_text.iloc[range(1000)]"
   ]
  },
  {
   "cell_type": "code",
   "execution_count": 146,
   "metadata": {},
   "outputs": [],
   "source": [
    "c = nonurgent_text.apply(lambda x : x.lower()).apply(lambda x : re.sub(\"[^a-zA-Z]\" , \" \" , x))\n",
    "\n",
    "d = str(c.iloc[0])\n",
    "\n",
    "for i in range(1 , len(c)): \n",
    "    d += c.iloc[i]\n",
    "\n",
    "d = d.split()\n",
    "d = [word for word in d if not word in stopwords.words(\"english\")]"
   ]
  },
  {
   "cell_type": "code",
   "execution_count": 149,
   "metadata": {},
   "outputs": [],
   "source": [
    "d_dict = wordListToPB(d)"
   ]
  },
  {
   "cell_type": "code",
   "execution_count": 155,
   "metadata": {},
   "outputs": [],
   "source": [
    "bd = b + d"
   ]
  },
  {
   "cell_type": "code",
   "execution_count": 163,
   "metadata": {},
   "outputs": [],
   "source": [
    "def checkKey(dict, key): \n",
    "      \n",
    "    if key in dict.keys(): \n",
    "        return dict[key]\n",
    "    \n",
    "    else: \n",
    "        return 0  "
   ]
  },
  {
   "cell_type": "code",
   "execution_count": 188,
   "metadata": {},
   "outputs": [],
   "source": [
    "bd_dict = dict()"
   ]
  },
  {
   "cell_type": "code",
   "execution_count": 198,
   "metadata": {},
   "outputs": [],
   "source": [
    "def bd_prob(string) : \n",
    "    for i in range(len(string)):\n",
    "        n_urgent = checkKey(b_dict , string[i])\n",
    "        n_nonurgent = checkKey(d_dict , string[i])\n",
    "        \n",
    "        bd_dict[string[i]] = n_urgent/(n_urgent + n_nonurgent) \n",
    "    \n",
    "    return bd_dict"
   ]
  },
  {
   "cell_type": "code",
   "execution_count": 203,
   "metadata": {},
   "outputs": [],
   "source": [
    "bd_prob = bd_prob(bd)"
   ]
  },
  {
   "cell_type": "code",
   "execution_count": 207,
   "metadata": {},
   "outputs": [],
   "source": [
    "def predict(sentence):\n",
    "    urgency_parameter = 0\n",
    "    \n",
    "    for i in range(len(sentence)) : \n",
    "        urgency_parameter += bd_prob[sentence[i]]\n",
    "      \n",
    "    if urgency_parameter >= 1 : \n",
    "        print(\"Urgent\")\n",
    "    \n",
    "    else:\n",
    "        print(\"Not-Urgent\")\n",
    "    \n",
    "    return urgency_parameter"
   ]
  },
  {
   "cell_type": "code",
   "execution_count": 205,
   "metadata": {},
   "outputs": [],
   "source": [
    "y = str(a.iloc[0])\n",
    "y = str(y).lower()\n",
    "y = re.sub(\"[^a-zA-Z]\" , \" \" , y)\n",
    "y = y.split()\n",
    "\n",
    "y = [word for word in y if not word in stopwords.words(\"english\")]"
   ]
  },
  {
   "cell_type": "code",
   "execution_count": 208,
   "metadata": {},
   "outputs": [
    {
     "name": "stdout",
     "output_type": "stream",
     "text": [
      "Urgent\n"
     ]
    },
    {
     "data": {
      "text/plain": [
       "2.726817042606516"
      ]
     },
     "execution_count": 208,
     "metadata": {},
     "output_type": "execute_result"
    }
   ],
   "source": [
    "predict(y)"
   ]
  },
  {
   "cell_type": "code",
   "execution_count": null,
   "metadata": {},
   "outputs": [],
   "source": []
  }
 ],
 "metadata": {
  "kernelspec": {
   "display_name": "Python 3",
   "language": "python",
   "name": "python3"
  },
  "language_info": {
   "codemirror_mode": {
    "name": "ipython",
    "version": 3
   },
   "file_extension": ".py",
   "mimetype": "text/x-python",
   "name": "python",
   "nbconvert_exporter": "python",
   "pygments_lexer": "ipython3",
   "version": "3.7.3"
  }
 },
 "nbformat": 4,
 "nbformat_minor": 2
}
